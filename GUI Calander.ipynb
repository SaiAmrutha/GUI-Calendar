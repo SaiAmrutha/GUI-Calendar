{
 "cells": [
  {
   "cell_type": "code",
   "execution_count": 1,
   "id": "0c942c28",
   "metadata": {},
   "outputs": [],
   "source": [
    "#code for GUI calendar using tkinter in python\n",
    "from tkinter import *\n",
    "import calendar\n",
    "\n",
    "#this function helps to display the calendar\n",
    "def Calendar_See():\n",
    "    #to create the tkinter window named window\n",
    "    window = Tk()\n",
    "    window.config(background=\"light green\")    \n",
    "    window.title(\"Complete year calendar\")\n",
    "    window.geometry(\"620x620\")\n",
    "    get_year = int(year_entry.get())\n",
    "    window_content = calendar.calendar(get_year)\n",
    "    year_cal = Label(window, text=window_content, font=(\"Consolas\",10,\"bold\"))\n",
    "    year_cal.grid(row=5,column=1, padx=20)\n",
    "    window.mainloop()\n",
    "\n",
    "\n",
    "if __name__=='__main__':\n",
    "    #to create the tkinter window named root\n",
    "    root = Tk()\n",
    "    root.config(background=\"Green\")\n",
    "    root.title(\"GUI Calendar\")\n",
    "    root.geometry(\"480x400\")\n",
    "    \n",
    "    #the heading\n",
    "    name = Label(root, text=\"Calendar\", bg=\"Blue\", font=(\"Arial\",25,\"bold\"))\n",
    "    name.grid(rows=1,column=1, sticky='nsew')\n",
    "    \n",
    "    #to input the year for which we want to see the calendar\n",
    "    year =  Label(root, text=\"Enter the year:\", bg=\"Light blue\", font=(\"Arial\",25,\"bold\"))\n",
    "    year.grid(row=2,column=1)\n",
    "    \n",
    "    #entering the input\n",
    "    year_entry = Entry(root, font=(\"Arial\",25,\"bold\"))\n",
    "    year_entry.grid(row=2, column=2, sticky = 'ssew')\n",
    "    \n",
    "    #this button is used for submitting the year to view the calendar\n",
    "    show_button = Button(root, text=\"Show Calendar!\", fg=\"Red\",bg=\"Black\",\n",
    "                         font=(\"Arial\",25,\"bold\"),command=Calendar_See)\n",
    "    show_button.grid(row=4,column=1, sticky = 'nsew')\n",
    "    root.mainloop()\n",
    "    "
   ]
  },
  {
   "cell_type": "code",
   "execution_count": null,
   "id": "41fd5042",
   "metadata": {},
   "outputs": [],
   "source": []
  }
 ],
 "metadata": {
  "kernelspec": {
   "display_name": "Python 3 (ipykernel)",
   "language": "python",
   "name": "python3"
  },
  "language_info": {
   "codemirror_mode": {
    "name": "ipython",
    "version": 3
   },
   "file_extension": ".py",
   "mimetype": "text/x-python",
   "name": "python",
   "nbconvert_exporter": "python",
   "pygments_lexer": "ipython3",
   "version": "3.9.7"
  }
 },
 "nbformat": 4,
 "nbformat_minor": 5
}
